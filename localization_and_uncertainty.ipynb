{
 "cells": [
  {
   "cell_type": "code",
   "execution_count": 279,
   "id": "14e6ab56-ce2f-4ad9-81ea-5ebc4f427ae1",
   "metadata": {},
   "outputs": [],
   "source": [
    "import pandas as pd\n",
    "import operator\n",
    "import matplotlib.pyplot as plt"
   ]
  },
  {
   "cell_type": "code",
   "execution_count": 280,
   "id": "c8a447e0-ab4d-4c28-80f1-9790f7141288",
   "metadata": {},
   "outputs": [],
   "source": [
    "def plot_color(dict1):\n",
    "    print(dict1)\n",
    "    max_val=max(dict1.items(), key=operator.itemgetter(1))\n",
    "    color=[]\n",
    "    for key in dict1:\n",
    "        if dict1[key] == max_val[1]:\n",
    "            color.append('r')\n",
    "        else:\n",
    "            color.append('b')\n",
    "    return color\n",
    "        \n",
    "    "
   ]
  },
  {
   "cell_type": "code",
   "execution_count": 281,
   "id": "48899283-cc58-4b48-ba2a-caea90e679ab",
   "metadata": {},
   "outputs": [],
   "source": [
    "def bayes_filter(bel_x, z):\n",
    "    #bel_x=x\n",
    "    plt.subplot(3,1,1)\n",
    "    plt.bar(*zip(*bel_x.items()),color=plot_color(bel_x))\n",
    "    first_grid=.7\n",
    "    same_grid=.2\n",
    "    second_grid=0.1\n",
    "    yellow_grid=0.0\n",
    "    door=['p1','p3']\n",
    "    wall=['p0','p2']\n",
    "    door_sense={\"wall_p0\":.3,\"door_p1\":.8,\"wall_p2\":.3,\"door_p3\":.8}\n",
    "    wall_sense={\"wall_p0\":.7,\"door_p1\":.2,\"wall_p2\":.7,\"door_p3\":.2}\n",
    "    print(bel_x)\n",
    "    bel_vals=bel_x.values()\n",
    "    x_p0=sum([bel*prob for bel,prob in zip(bel_vals,[same_grid,0,0,0])])\n",
    "   \n",
    "    x_p1=sum([bel*prob for bel,prob in zip(bel_vals,[first_grid,same_grid,0,0])])\n",
    "   \n",
    "    x_p2=sum([bel*prob for bel,prob in zip(bel_vals,[second_grid,first_grid,same_grid,0])])\n",
    "  \n",
    "    x_p3=sum([bel*prob for bel,prob in zip(bel_vals,[0,second_grid,first_grid,same_grid])])\n",
    "   \n",
    "    bel_bar={\"p0\":x_p0,\"p1\":x_p1,\"p2\":x_p2,\"p3\":x_p3}\n",
    "    print(\"bel_bar: \",bel_bar)\n",
    "\n",
    "    sum_bel=[]\n",
    "    \n",
    "    if z == \"door\":\n",
    "        print(\"If Measurement: \", z)\n",
    "        plt.subplot(3,1,2)\n",
    "        plt.bar(*zip(*door_sense.items()),color=plot_color(door_sense))\n",
    "        for key in bel_bar:\n",
    "            \n",
    "            if key in door:\n",
    "                print(\"if door: \",key)\n",
    "                sum_bel.append(bel_bar[key]*.80)\n",
    "                bel_bar[key]*=.80\n",
    "                \n",
    "            else:\n",
    "                print(\"else door: \",key)\n",
    "                sum_bel.append(bel_bar[key]*.30)\n",
    "                bel_bar[key]*=.30\n",
    "                \n",
    "    else:\n",
    "        plt.subplot(3,1,2)\n",
    "        plt.bar(*zip(*wall_sense.items()),color=plot_color(wall_sense))\n",
    "        print(\"Else Measurement: \", z)\n",
    "        for key in bel_bar:\n",
    "            \n",
    "            if key in wall:\n",
    "                print(\"if wall: \",key)\n",
    "                sum_bel.append(bel_bar[key]*.70)\n",
    "                bel_bar[key]*=.70\n",
    "                \n",
    "            else:\n",
    "                print(\"else wall: \",key)\n",
    "                sum_bel.append(bel_bar[key]*.20)\n",
    "                bel_bar[key]*=.20\n",
    "    \n",
    "    print(\"sum_bel: \",sum_bel)\n",
    "                \n",
    "    eta=1/sum(sum_bel)\n",
    "    print(\"eta: \", eta)\n",
    "\n",
    "   \n",
    "    new_bel={key:bel_bar[key]*eta for key in bel_x}\n",
    "    plt.subplot(3,1,3)\n",
    "    plt.bar(*zip(*new_bel.items()),color=plot_color(new_bel))\n",
    "    plt.tight_layout()\n",
    "    plt.show()\n",
    "\n",
    "    return new_bel"
   ]
  },
  {
   "cell_type": "code",
   "execution_count": 282,
   "id": "6701d38c-ccee-4fc5-92f8-62f160b381e1",
   "metadata": {},
   "outputs": [],
   "source": [
    "steps=[1,2]\n",
    "\n",
    "bel_x={\"p0\":0.25,\"p1\":0.25,\"p2\":0.25,\"p3\":0.25}"
   ]
  },
  {
   "cell_type": "code",
   "execution_count": 283,
   "id": "5dc184c3-20f3-488a-9658-2f21ff43bfef",
   "metadata": {},
   "outputs": [
    {
     "name": "stdout",
     "output_type": "stream",
     "text": [
      "{'p0': 0.25, 'p1': 0.25, 'p2': 0.25, 'p3': 0.25}\n",
      "{'p0': 0.25, 'p1': 0.25, 'p2': 0.25, 'p3': 0.25}\n",
      "bel_bar:  {'p0': 0.05, 'p1': 0.22499999999999998, 'p2': 0.25, 'p3': 0.25}\n",
      "If Measurement:  door\n",
      "{'wall_p0': 0.3, 'door_p1': 0.8, 'wall_p2': 0.3, 'door_p3': 0.8}\n",
      "else door:  p0\n",
      "if door:  p1\n",
      "else door:  p2\n",
      "if door:  p3\n",
      "sum_bel:  [0.015, 0.18, 0.075, 0.2]\n",
      "eta:  2.127659574468085\n",
      "{'p0': 0.031914893617021274, 'p1': 0.3829787234042553, 'p2': 0.15957446808510636, 'p3': 0.425531914893617}\n"
     ]
    },
    {
     "data": {
      "image/png": "[encoded data removed]",
      "text/plain": [
       "<Figure size 432x288 with 3 Axes>"
      ]
     },
     "metadata": {
      "needs_background": "light"
     },
     "output_type": "display_data"
    }
   ],
   "source": [
    "bel_x=bayes_filter(bel_x,\"door\")"
   ]
  },
  {
   "cell_type": "code",
   "execution_count": 284,
   "id": "a14ba89d-bc36-47b0-a13d-d206a70de496",
   "metadata": {},
   "outputs": [
    {
     "data": {
      "text/plain": [
       "{'p0': 0.031914893617021274,\n",
       " 'p1': 0.3829787234042553,\n",
       " 'p2': 0.15957446808510636,\n",
       " 'p3': 0.425531914893617}"
      ]
     },
     "execution_count": 284,
     "metadata": {},
     "output_type": "execute_result"
    }
   ],
   "source": [
    "bel_x"
   ]
  },
  {
   "cell_type": "code",
   "execution_count": 285,
   "id": "4fd0d8aa-b548-44f6-bac9-0d1fbbe59bd8",
   "metadata": {},
   "outputs": [
    {
     "name": "stdout",
     "output_type": "stream",
     "text": [
      "{'p0': 0.031914893617021274, 'p1': 0.3829787234042553, 'p2': 0.15957446808510636, 'p3': 0.425531914893617}\n",
      "{'p0': 0.031914893617021274, 'p1': 0.3829787234042553, 'p2': 0.15957446808510636, 'p3': 0.425531914893617}\n",
      "bel_bar:  {'p0': 0.006382978723404255, 'p1': 0.09893617021276596, 'p2': 0.3031914893617021, 'p3': 0.23510638297872338}\n",
      "{'wall_p0': 0.7, 'door_p1': 0.2, 'wall_p2': 0.7, 'door_p3': 0.2}\n",
      "Else Measurement:  wall\n",
      "if wall:  p0\n",
      "else wall:  p1\n",
      "if wall:  p2\n",
      "else wall:  p3\n",
      "sum_bel:  [0.004468085106382978, 0.019787234042553194, 0.21223404255319145, 0.04702127659574468]\n",
      "eta:  3.52720450281426\n",
      "{'p0': 0.01575984990619137, 'p1': 0.06979362101313323, 'p2': 0.7485928705440901, 'p3': 0.1658536585365854}\n"
     ]
    },
    {
     "data": {
      "image/png": "[encoded data removed]",
      "text/plain": [
       "<Figure size 432x288 with 3 Axes>"
      ]
     },
     "metadata": {
      "needs_background": "light"
     },
     "output_type": "display_data"
    },
    {
     "data": {
      "text/plain": [
       "{'p0': 0.01575984990619137,\n",
       " 'p1': 0.06979362101313323,\n",
       " 'p2': 0.7485928705440901,\n",
       " 'p3': 0.1658536585365854}"
      ]
     },
     "execution_count": 285,
     "metadata": {},
     "output_type": "execute_result"
    }
   ],
   "source": [
    "bayes_filter(bel_x,\"wall\")"
   ]
  },
  {
   "cell_type": "code",
   "execution_count": null,
   "id": "cfff4bd4-0e6a-460b-9d03-9b69ae84b12e",
   "metadata": {},
   "outputs": [],
   "source": []
  },
  {
   "cell_type": "code",
   "execution_count": null,
   "id": "26d96268-9f27-4018-8560-9009b60cd867",
   "metadata": {},
   "outputs": [],
   "source": []
  },
  {
   "cell_type": "code",
   "execution_count": null,
   "id": "fbce214b-f6a0-4a1f-af2e-734b7ff5604e",
   "metadata": {},
   "outputs": [],
   "source": []
  },
  {
   "cell_type": "code",
   "execution_count": null,
   "id": "e7b23a4a-109c-4cd7-b336-d5652c1e7999",
   "metadata": {},
   "outputs": [],
   "source": []
  },
  {
   "cell_type": "code",
   "execution_count": null,
   "id": "55191ce1-3dba-41eb-93d1-6df857b03247",
   "metadata": {},
   "outputs": [],
   "source": []
  },
  {
   "cell_type": "code",
   "execution_count": null,
   "id": "0d3ef1f6-fe09-4429-867c-a59af2d43373",
   "metadata": {},
   "outputs": [],
   "source": []
  },
  {
   "cell_type": "code",
   "execution_count": null,
   "id": "ffd7bbc3-efc7-46c7-9992-19540c2c1b02",
   "metadata": {},
   "outputs": [],
   "source": []
  },
  {
   "cell_type": "code",
   "execution_count": null,
   "id": "f432d82f-15ee-4a93-b6d1-b2633417ff01",
   "metadata": {},
   "outputs": [],
   "source": []
  },
  {
   "cell_type": "code",
   "execution_count": null,
   "id": "28e47000-cc23-4c96-8cad-e72e7611d802",
   "metadata": {},
   "outputs": [],
   "source": []
  },
  {
   "cell_type": "code",
   "execution_count": null,
   "id": "457537a0-6fe1-4972-934e-871281ae39fe",
   "metadata": {},
   "outputs": [],
   "source": []
  },
  {
   "cell_type": "code",
   "execution_count": null,
   "id": "d4a5b637-5942-47e4-9e7e-5088c9729adc",
   "metadata": {},
   "outputs": [],
   "source": []
  },
  {
   "cell_type": "code",
   "execution_count": null,
   "id": "e3c3901c-14d8-4536-85cd-2b7f249c79be",
   "metadata": {},
   "outputs": [],
   "source": []
  },
  {
   "cell_type": "code",
   "execution_count": null,
   "id": "928ac349-bce6-484e-b9b7-4ec069b643ed",
   "metadata": {},
   "outputs": [],
   "source": []
  },
  {
   "cell_type": "code",
   "execution_count": null,
   "id": "8a827543-af07-4771-9c75-6830fd69d220",
   "metadata": {},
   "outputs": [],
   "source": []
  },
  {
   "cell_type": "code",
   "execution_count": null,
   "id": "54bd19d4-a48a-4fe8-8fee-af2de4d77ef0",
   "metadata": {},
   "outputs": [],
   "source": []
  },
  {
   "cell_type": "code",
   "execution_count": null,
   "id": "7030afdb-52c8-4f13-8a6c-eba5353ce8ed",
   "metadata": {},
   "outputs": [],
   "source": []
  }
 ],
 "metadata": {
  "kernelspec": {
   "display_name": "Python 3",
   "language": "python",
   "name": "python3"
  },
  "language_info": {
   "codemirror_mode": {
    "name": "ipython",
    "version": 3
   },
   "file_extension": ".py",
   "mimetype": "text/x-python",
   "name": "python",
   "nbconvert_exporter": "python",
   "pygments_lexer": "ipython3",
   "version": "3.8.10"
  }
 },
 "nbformat": 4,
 "nbformat_minor": 5
}
