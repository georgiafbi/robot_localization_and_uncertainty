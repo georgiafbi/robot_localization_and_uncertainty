{
 "cells": [
  {
   "cell_type": "code",
   "execution_count": 96,
   "id": "14e6ab56-ce2f-4ad9-81ea-5ebc4f427ae1",
   "metadata": {},
   "outputs": [],
   "source": [
    "import pandas as pd\n",
    "import operator"
   ]
  },
  {
   "cell_type": "code",
   "execution_count": 120,
   "id": "b8b2e390-75a7-4162-898b-30c6f7aa1814",
   "metadata": {},
   "outputs": [],
   "source": [
    "def bayes_filter(x, measurement):\n",
    "    bel_x=x\n",
    "    first_grid=.7\n",
    "    same_grid=.3\n",
    "    second_grid=0.0\n",
    "    yellow_grid=0.0\n",
    "    door=['p1','p3']\n",
    "    wall=['p0','p2']\n",
    "\n",
    "    x_p0=sum([i*bel_x[\"p0\"] for i in [same_grid,0,0,0]])\n",
    "\n",
    "    x_p1=sum(bel_x[\"p1\"]*i for i in [first_grid,same_grid,0,0])\n",
    "    x_p2=sum(bel_x[\"p2\"]*i for i in[second_grid,first_grid,same_grid,0])\n",
    "    x_p3=sum(bel_x[\"p3\"]*i for i in[0,second_grid,first_grid,same_grid])\n",
    "    bel_bar={\"p0\":x_p0,\"p1\":x_p1,\"p2\":x_p2,\"p3\":x_p3}\n",
    "#     bel_max=max(bel_bar.items(),key=operator.itemgetter(1))\n",
    "#     print(bel_max)\n",
    "#     bel_pos=bel_max[0]\n",
    "#     bel_val=bel_max[1]\n",
    "\n",
    "    sum_bel=0\n",
    "    if measurement == \"door\":\n",
    "        for key in bel_bar:\n",
    "            if key in door:\n",
    "                sum_bel+=bel_val*.80\n",
    "                bel_bar[key]*=.80\n",
    "                \n",
    "            else:\n",
    "                sum_bel+=bel_bar[key]*.30\n",
    "                bel_bar[key]*=.30\n",
    "                \n",
    "    else:\n",
    "        for key in bel_bar:\n",
    "            if key in wall:\n",
    "                sum_bel+=bel_val*.70\n",
    "                bel_bar[key]*=.7\n",
    "                \n",
    "            else:\n",
    "                sum_bel+=bel_bar[key]*.20\n",
    "                bel_bar[key]*=.2\n",
    "                \n",
    "    eta=1/sum_bel\n",
    "\n",
    "\n",
    "\n",
    "    for key in bel_x:\n",
    "        bel_x[key]=bel_bar[key]*eta\n",
    "\n",
    "    return bel_x"
   ]
  },
  {
   "cell_type": "code",
   "execution_count": 121,
   "id": "6701d38c-ccee-4fc5-92f8-62f160b381e1",
   "metadata": {},
   "outputs": [],
   "source": [
    "steps=[1,2]\n",
    "\n",
    "bel_x={\"p0\":0.25,\"p1\":0.25,\"p2\":0.25,\"p3\":0.25}"
   ]
  },
  {
   "cell_type": "code",
   "execution_count": 122,
   "id": "5dc184c3-20f3-488a-9658-2f21ff43bfef",
   "metadata": {},
   "outputs": [],
   "source": [
    "bel_x=bayes_filter(bel_x,\"door\")"
   ]
  },
  {
   "cell_type": "code",
   "execution_count": 123,
   "id": "a14ba89d-bc36-47b0-a13d-d206a70de496",
   "metadata": {},
   "outputs": [
    {
     "data": {
      "text/plain": [
       "{'p0': 0.045226130653266326,\n",
       " 'p1': 0.40201005025125625,\n",
       " 'p2': 0.1507537688442211,\n",
       " 'p3': 0.40201005025125625}"
      ]
     },
     "execution_count": 123,
     "metadata": {},
     "output_type": "execute_result"
    }
   ],
   "source": [
    "bel_x"
   ]
  },
  {
   "cell_type": "code",
   "execution_count": 112,
   "id": "4fd0d8aa-b548-44f6-bac9-0d1fbbe59bd8",
   "metadata": {},
   "outputs": [
    {
     "data": {
      "text/plain": [
       "{'p0': 0.018593212001967535,\n",
       " 'p1': 0.1574028529267093,\n",
       " 'p2': 0.20659124446630597,\n",
       " 'p3': 0.1574028529267093}"
      ]
     },
     "execution_count": 112,
     "metadata": {},
     "output_type": "execute_result"
    }
   ],
   "source": [
    "bayes_filter(bel_x,\"wall\")"
   ]
  },
  {
   "cell_type": "code",
   "execution_count": null,
   "id": "cfff4bd4-0e6a-460b-9d03-9b69ae84b12e",
   "metadata": {},
   "outputs": [],
   "source": []
  },
  {
   "cell_type": "code",
   "execution_count": null,
   "id": "26d96268-9f27-4018-8560-9009b60cd867",
   "metadata": {},
   "outputs": [],
   "source": []
  },
  {
   "cell_type": "code",
   "execution_count": null,
   "id": "fbce214b-f6a0-4a1f-af2e-734b7ff5604e",
   "metadata": {},
   "outputs": [],
   "source": []
  },
  {
   "cell_type": "code",
   "execution_count": null,
   "id": "e7b23a4a-109c-4cd7-b336-d5652c1e7999",
   "metadata": {},
   "outputs": [],
   "source": []
  },
  {
   "cell_type": "code",
   "execution_count": null,
   "id": "55191ce1-3dba-41eb-93d1-6df857b03247",
   "metadata": {},
   "outputs": [],
   "source": []
  },
  {
   "cell_type": "code",
   "execution_count": null,
   "id": "0d3ef1f6-fe09-4429-867c-a59af2d43373",
   "metadata": {},
   "outputs": [],
   "source": []
  },
  {
   "cell_type": "code",
   "execution_count": null,
   "id": "ffd7bbc3-efc7-46c7-9992-19540c2c1b02",
   "metadata": {},
   "outputs": [],
   "source": []
  },
  {
   "cell_type": "code",
   "execution_count": null,
   "id": "f432d82f-15ee-4a93-b6d1-b2633417ff01",
   "metadata": {},
   "outputs": [],
   "source": []
  },
  {
   "cell_type": "code",
   "execution_count": null,
   "id": "28e47000-cc23-4c96-8cad-e72e7611d802",
   "metadata": {},
   "outputs": [],
   "source": []
  },
  {
   "cell_type": "code",
   "execution_count": null,
   "id": "457537a0-6fe1-4972-934e-871281ae39fe",
   "metadata": {},
   "outputs": [],
   "source": []
  },
  {
   "cell_type": "code",
   "execution_count": null,
   "id": "d4a5b637-5942-47e4-9e7e-5088c9729adc",
   "metadata": {},
   "outputs": [],
   "source": []
  },
  {
   "cell_type": "code",
   "execution_count": null,
   "id": "e3c3901c-14d8-4536-85cd-2b7f249c79be",
   "metadata": {},
   "outputs": [],
   "source": []
  },
  {
   "cell_type": "code",
   "execution_count": null,
   "id": "928ac349-bce6-484e-b9b7-4ec069b643ed",
   "metadata": {},
   "outputs": [],
   "source": []
  },
  {
   "cell_type": "code",
   "execution_count": null,
   "id": "8a827543-af07-4771-9c75-6830fd69d220",
   "metadata": {},
   "outputs": [],
   "source": []
  },
  {
   "cell_type": "code",
   "execution_count": null,
   "id": "54bd19d4-a48a-4fe8-8fee-af2de4d77ef0",
   "metadata": {},
   "outputs": [],
   "source": []
  },
  {
   "cell_type": "code",
   "execution_count": null,
   "id": "7030afdb-52c8-4f13-8a6c-eba5353ce8ed",
   "metadata": {},
   "outputs": [],
   "source": []
  }
 ],
 "metadata": {
  "kernelspec": {
   "display_name": "Python 3",
   "language": "python",
   "name": "python3"
  },
  "language_info": {
   "codemirror_mode": {
    "name": "ipython",
    "version": 3
   },
   "file_extension": ".py",
   "mimetype": "text/x-python",
   "name": "python",
   "nbconvert_exporter": "python",
   "pygments_lexer": "ipython3",
   "version": "3.8.10"
  }
 },
 "nbformat": 4,
 "nbformat_minor": 5
}
